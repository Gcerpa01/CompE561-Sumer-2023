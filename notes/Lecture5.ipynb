{
 "cells": [
  {
   "cell_type": "code",
   "execution_count": null,
   "metadata": {},
   "outputs": [],
   "source": []
  },
  {
   "cell_type": "code",
   "execution_count": null,
   "metadata": {},
   "outputs": [],
   "source": []
  },
  {
   "attachments": {},
   "cell_type": "markdown",
   "metadata": {},
   "source": [
    "# Lecture 5 - 5/31\n"
   ]
  },
  {
   "attachments": {},
   "cell_type": "markdown",
   "metadata": {},
   "source": [
    "## CSS rule example"
   ]
  },
  {
   "attachments": {},
   "cell_type": "markdown",
   "metadata": {},
   "source": [
    "```\n",
    "table tr: nth-child(even) {\n",
    "    background-color: lavender;\n",
    "}\n",
    "\n",
    "table th:hover{ //table header\n",
    "    color:orange;\n",
    "    background-color: black;\n",
    "}\n",
    "\n",
    "table tr td: hover { //table row table data\n",
    "    background-color: orange;\n",
    "}\n",
    "\n",
    "```"
   ]
  },
  {
   "attachments": {},
   "cell_type": "markdown",
   "metadata": {},
   "source": [
    "## Advanced Selectors"
   ]
  },
  {
   "attachments": {},
   "cell_type": "markdown",
   "metadata": {},
   "source": [
    "- child selector:\n",
    "    -  ` > ` operator matches direct child\n",
    "- sibling element\n",
    "    - `~` match second element if siblings and directly after first element\n",
    "- adjacent sibling selector\n",
    "    - `+` operator selects immediate next operator if they have the same parent\n",
    "        - example `h1 + p`\n",
    "- attribute selector\n",
    "    - choose attributes via `[and]`\n",
    "    - exact value: `[target = \"_blank\"]`\n",
    "    - contains whole word: `[alt ~= \"sad\"]`\n",
    "    - attribute begins with value: `[class ^= \"nav\"]`\n"
   ]
  },
  {
   "attachments": {},
   "cell_type": "markdown",
   "metadata": {},
   "source": [
    " ## Project"
   ]
  },
  {
   "attachments": {},
   "cell_type": "markdown",
   "metadata": {},
   "source": [
    "- Make prototype in HTML and CSS"
   ]
  },
  {
   "attachments": {},
   "cell_type": "markdown",
   "metadata": {},
   "source": [
    "## Study\n",
    "- flex grow\n",
    "- flex shrink"
   ]
  },
  {
   "attachments": {},
   "cell_type": "markdown",
   "metadata": {},
   "source": []
  }
 ],
 "metadata": {
  "kernelspec": {
   "display_name": "Python 3",
   "language": "python",
   "name": "python3"
  },
  "language_info": {
   "codemirror_mode": {
    "name": "ipython",
    "version": 3
   },
   "file_extension": ".py",
   "mimetype": "text/x-python",
   "name": "python",
   "nbconvert_exporter": "python",
   "pygments_lexer": "ipython3",
   "version": "3.11.1"
  },
  "orig_nbformat": 4
 },
 "nbformat": 4,
 "nbformat_minor": 2
}
